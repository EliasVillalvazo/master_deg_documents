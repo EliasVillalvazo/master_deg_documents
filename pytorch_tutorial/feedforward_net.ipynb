{
  "nbformat": 4,
  "nbformat_minor": 0,
  "metadata": {
    "colab": {
      "name": "feedforward_net.ipynb",
      "provenance": [],
      "authorship_tag": "ABX9TyM0fvRvjBXH++b08kooRjWS",
      "include_colab_link": true
    },
    "kernelspec": {
      "name": "python3",
      "display_name": "Python 3"
    },
    "language_info": {
      "name": "python"
    }
  },
  "cells": [
    {
      "cell_type": "markdown",
      "metadata": {
        "id": "view-in-github",
        "colab_type": "text"
      },
      "source": [
        "<a href=\"https://colab.research.google.com/github/EliasVillalvazo/master_deg_documents/blob/main/pytorch_tutorial/feedforward_net.ipynb\" target=\"_parent\"><img src=\"https://colab.research.google.com/assets/colab-badge.svg\" alt=\"Open In Colab\"/></a>"
      ]
    },
    {
      "cell_type": "code",
      "execution_count": null,
      "metadata": {
        "id": "dqmyCnBQq4Kc"
      },
      "outputs": [],
      "source": [
        "# MNIST\n",
        "# DataLoader and Transformation\n",
        "# Multi layer NN and activation functions\n",
        "# loss and optimizer\n",
        "# training loop \n",
        "# model evaluation\n",
        "# GPU Support\n"
      ]
    },
    {
      "cell_type": "code",
      "source": [
        "import torch\n",
        "import torch.nn as nn\n",
        "import torchvision\n",
        "import torchvision.transforms as transforms\n",
        "import matplotlib.pyplot as plt\n",
        "\n",
        "# device configuration\n",
        "\n",
        "device = torch.device('cuda' if torch.cuda.is_available() else 'cpu')"
      ],
      "metadata": {
        "id": "NLBZ58AuuuSH"
      },
      "execution_count": 2,
      "outputs": []
    },
    {
      "cell_type": "code",
      "source": [
        "# hyperparameters definition\n",
        "input_size = 28 * 28 # dimension of the images is 28x28, flattened is 784\n",
        "hidden_size = 100\n",
        "number_classes = 10 # digits from 0 to 9 in MNIST\n",
        "num_epochs = 2\n",
        "batch_size = 100\n",
        "learning_rate = 0.001"
      ],
      "metadata": {
        "id": "BHKqiSprvA-N"
      },
      "execution_count": 3,
      "outputs": []
    },
    {
      "cell_type": "code",
      "source": [
        "# Load MNIST data\n",
        "train_dataset = torchvision.datasets.MNIST(root='./data', train=True, transform=transforms.ToTensor(), download=True)\n",
        "test_dataset = torchvision.datasets.MNIST(root='./data', train=False, transform=transforms.ToTensor(), download=False)\n",
        "\n",
        "# Get DataLoader\n",
        "train_dataloader = torch.utils.data.DataLoader(dataset=train_dataset, batch_size=batch_size, shuffle=True)\n",
        "test_dataloader = torch.utils.data.DataLoader(dataset=test_dataset, batch_size=batch_size, shuffle=False)"
      ],
      "metadata": {
        "id": "u4XLDGUkvp3A"
      },
      "execution_count": 8,
      "outputs": []
    },
    {
      "cell_type": "code",
      "source": [
        "# Get a example\n",
        "examples = iter(train_dataloader)\n",
        "samples, labels = examples.next()\n",
        "print(samples.shape, labels.shape)\n",
        "# Remark: 100 corresponds to the batch size, 1 corresponds to only one color channel\n",
        "# 28x28 es height and width of the image\n"
      ],
      "metadata": {
        "colab": {
          "base_uri": "https://localhost:8080/"
        },
        "id": "Z4zHsVsIwwc8",
        "outputId": "7a44f757-7f2b-40bf-d492-c65ec6da55ac"
      },
      "execution_count": 9,
      "outputs": [
        {
          "output_type": "stream",
          "name": "stdout",
          "text": [
            "torch.Size([100, 1, 28, 28]) torch.Size([100])\n"
          ]
        }
      ]
    },
    {
      "cell_type": "code",
      "source": [
        "# Visualize examples\n",
        "for i in range(6):\n",
        "  plt.subplot(2, 3, i+1)\n",
        "  plt.imshow(samples[i][0], cmap='gray')\n",
        "plt.show()"
      ],
      "metadata": {
        "colab": {
          "base_uri": "https://localhost:8080/",
          "height": 267
        },
        "id": "CmtTdQXzwxlD",
        "outputId": "5b4e04ce-1e17-497a-cf95-21d553e56c5b"
      },
      "execution_count": 13,
      "outputs": [
        {
          "output_type": "display_data",
          "data": {
            "image/png": "[encoded data removed]",
            "text/plain": [
              "<Figure size 432x288 with 6 Axes>"
            ]
          },
          "metadata": {
            "needs_background": "light"
          }
        }
      ]
    },
    {
      "cell_type": "code",
      "source": [
        "# Create Neural Network\n",
        "class NeuralNet(nn.Module):\n",
        "  def __init__(self, input_size, hidden_size, num_classes):\n",
        "    super().__init__()\n",
        "    self.layer1 = nn.Linear(input_size, hidden_size)\n",
        "    self.relu = nn.ReLU()\n",
        "    self.layer2 = nn.Linear(hidden_size, num_classes)\n",
        "\n",
        "  def forward(self, x):\n",
        "    out = self.layer1(x)\n",
        "    out = self.relu(out)\n",
        "    out = self.layer2(out)\n",
        "    return out\n",
        "\n",
        "model = NeuralNet(input_size=input_size, hidden_size=hidden_size, num_classes=number_classes)"
      ],
      "metadata": {
        "id": "WZgZCBOlx965"
      },
      "execution_count": 14,
      "outputs": []
    },
    {
      "cell_type": "code",
      "source": [
        "# create loss and optimizer\n",
        "\n",
        "criterion = nn.CrossEntropyLoss()\n",
        "optimizer = torch.optim.Adam(params=model.parameters(), lr=learning_rate)"
      ],
      "metadata": {
        "id": "sroEM1EgzqSm"
      },
      "execution_count": 15,
      "outputs": []
    },
    {
      "cell_type": "code",
      "source": [
        "# Do training loop now\n",
        "\n",
        "# define number of total steps\n",
        "n_total_steps = len(train_dataloader)\n",
        "\n",
        "for epoch in range(num_epochs):\n",
        "  # loop over the batches\n",
        "  for i, (images, labels) in enumerate(train_dataloader):\n",
        "    # reshape images first and send to device\n",
        "    images = images.reshape(-1, 28*28).to(device)\n",
        "    labels = labels.to(device)\n",
        "\n",
        "    # forward pass\n",
        "    outputs = model(images)\n",
        "    loss = criterion(outputs, labels)\n",
        "\n",
        "    # backward pass\n",
        "    optimizer.zero_grad()\n",
        "    # backprop\n",
        "    loss.backward()\n",
        "    # update parameters\n",
        "    optimizer.step()\n",
        "\n",
        "    if (i + 1) % 100 == 0:\n",
        "      print(f'current epoch: {epoch+1} / {num_epochs}; current step: {i+1} / {n_total_steps}; loss = {loss.item():.4f}')\n",
        "\n",
        "# test step\n",
        "with torch.no_grad():\n",
        "  n_correct_predictions = 0\n",
        "  n_samples = 0\n",
        "  for images, labels in test_dataloader:\n",
        "    # reshape images first and send to device\n",
        "    images = images.reshape(-1, 28*28).to(device)\n",
        "    labels = labels.to(device)\n",
        "\n",
        "    # calculate the predictions\n",
        "    output_t = model(images)\n",
        "    _, predictions = torch.max(output_t, 1) # returns value and index\n",
        "    n_samples += labels.shape[0]\n",
        "    n_correct_predictions += (predictions == labels).sum().item()\n",
        "\n",
        "  acc = 100.0 * n_correct_predictions / n_samples\n",
        "  print(acc)"
      ],
      "metadata": {
        "colab": {
          "base_uri": "https://localhost:8080/"
        },
        "id": "JCoUV5Ll0SKi",
        "outputId": "3c5b879c-cb31-43d4-9e5d-14501f1fffd9"
      },
      "execution_count": 17,
      "outputs": [
        {
          "output_type": "stream",
          "name": "stdout",
          "text": [
            "current epoch: 1 / 2; current step: 100 / 600; loss = 0.2649\n",
            "current epoch: 1 / 2; current step: 200 / 600; loss = 0.0777\n",
            "current epoch: 1 / 2; current step: 300 / 600; loss = 0.1095\n",
            "current epoch: 1 / 2; current step: 400 / 600; loss = 0.2351\n",
            "current epoch: 1 / 2; current step: 500 / 600; loss = 0.1035\n",
            "current epoch: 1 / 2; current step: 600 / 600; loss = 0.1536\n",
            "current epoch: 2 / 2; current step: 100 / 600; loss = 0.0894\n",
            "current epoch: 2 / 2; current step: 200 / 600; loss = 0.1071\n",
            "current epoch: 2 / 2; current step: 300 / 600; loss = 0.1674\n",
            "current epoch: 2 / 2; current step: 400 / 600; loss = 0.1226\n",
            "current epoch: 2 / 2; current step: 500 / 600; loss = 0.0737\n",
            "current epoch: 2 / 2; current step: 600 / 600; loss = 0.0657\n",
            "96.79\n"
          ]
        }
      ]
    },
    {
      "cell_type": "code",
      "source": [
        ""
      ],
      "metadata": {
        "id": "ea4zm1nv3JLY"
      },
      "execution_count": null,
      "outputs": []
    }
  ]
}